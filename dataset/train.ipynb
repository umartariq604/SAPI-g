{
 "cells": [
  {
   "cell_type": "code",
   "execution_count": 40,
   "metadata": {},
   "outputs": [],
   "source": [
    "# Cell 1: Imports\n",
    "import pandas as pd\n",
    "import numpy as np\n",
    "import matplotlib.pyplot as plt\n",
    "import seaborn as sns\n",
    "import pickle\n",
    "\n",
    "from sklearn.model_selection import train_test_split\n",
    "from sklearn.preprocessing import LabelEncoder, StandardScaler\n",
    "from sklearn.ensemble import RandomForestClassifier\n",
    "from sklearn.metrics import accuracy_score, classification_report, confusion_matrix\n",
    "\n",
    "import warnings\n",
    "warnings.filterwarnings(\"ignore\")\n"
   ]
  },
  {
   "cell_type": "code",
   "execution_count": 44,
   "metadata": {},
   "outputs": [
    {
     "name": "stdout",
     "output_type": "stream",
     "text": [
      "✅ Data loaded. Shape: (99996, 16)\n"
     ]
    },
    {
     "data": {
      "text/html": [
       "<div>\n",
       "<style scoped>\n",
       "    .dataframe tbody tr th:only-of-type {\n",
       "        vertical-align: middle;\n",
       "    }\n",
       "\n",
       "    .dataframe tbody tr th {\n",
       "        vertical-align: top;\n",
       "    }\n",
       "\n",
       "    .dataframe thead th {\n",
       "        text-align: right;\n",
       "    }\n",
       "</style>\n",
       "<table border=\"1\" class=\"dataframe\">\n",
       "  <thead>\n",
       "    <tr style=\"text-align: right;\">\n",
       "      <th></th>\n",
       "      <th>Flow Duration</th>\n",
       "      <th>Total Fwd Packets</th>\n",
       "      <th>Total Backward Packets</th>\n",
       "      <th>Fwd Packet Length Mean</th>\n",
       "      <th>Bwd Packet Length Mean</th>\n",
       "      <th>Flow Bytes/s</th>\n",
       "      <th>Flow Packets/s</th>\n",
       "      <th>Fwd IAT Mean</th>\n",
       "      <th>Bwd IAT Mean</th>\n",
       "      <th>Fwd Header Length</th>\n",
       "      <th>Bwd Header Length</th>\n",
       "      <th>Packet Length Mean</th>\n",
       "      <th>Down/Up Ratio</th>\n",
       "      <th>Avg Fwd Segment Size</th>\n",
       "      <th>Avg Bwd Segment Size</th>\n",
       "      <th>Label</th>\n",
       "    </tr>\n",
       "  </thead>\n",
       "  <tbody>\n",
       "    <tr>\n",
       "      <th>0</th>\n",
       "      <td>372911</td>\n",
       "      <td>40</td>\n",
       "      <td>61</td>\n",
       "      <td>207.578808</td>\n",
       "      <td>498.354903</td>\n",
       "      <td>590056.393368</td>\n",
       "      <td>5340.159600</td>\n",
       "      <td>279.382916</td>\n",
       "      <td>71.379364</td>\n",
       "      <td>30</td>\n",
       "      <td>50</td>\n",
       "      <td>251.537041</td>\n",
       "      <td>7</td>\n",
       "      <td>276.770570</td>\n",
       "      <td>869.484800</td>\n",
       "      <td>BENIGN</td>\n",
       "    </tr>\n",
       "    <tr>\n",
       "      <th>1</th>\n",
       "      <td>416833</td>\n",
       "      <td>75</td>\n",
       "      <td>54</td>\n",
       "      <td>470.777028</td>\n",
       "      <td>391.274887</td>\n",
       "      <td>981285.629660</td>\n",
       "      <td>9623.016867</td>\n",
       "      <td>196.067989</td>\n",
       "      <td>337.417042</td>\n",
       "      <td>51</td>\n",
       "      <td>25</td>\n",
       "      <td>765.047090</td>\n",
       "      <td>5</td>\n",
       "      <td>582.283212</td>\n",
       "      <td>116.340323</td>\n",
       "      <td>BENIGN</td>\n",
       "    </tr>\n",
       "    <tr>\n",
       "      <th>2</th>\n",
       "      <td>658691</td>\n",
       "      <td>25</td>\n",
       "      <td>8</td>\n",
       "      <td>143.566882</td>\n",
       "      <td>182.194382</td>\n",
       "      <td>68432.128204</td>\n",
       "      <td>776.293122</td>\n",
       "      <td>432.614975</td>\n",
       "      <td>635.716569</td>\n",
       "      <td>40</td>\n",
       "      <td>51</td>\n",
       "      <td>573.098893</td>\n",
       "      <td>9</td>\n",
       "      <td>329.492926</td>\n",
       "      <td>29.667906</td>\n",
       "      <td>BENIGN</td>\n",
       "    </tr>\n",
       "    <tr>\n",
       "      <th>3</th>\n",
       "      <td>242783</td>\n",
       "      <td>82</td>\n",
       "      <td>16</td>\n",
       "      <td>197.040143</td>\n",
       "      <td>278.526344</td>\n",
       "      <td>914901.025178</td>\n",
       "      <td>1528.357143</td>\n",
       "      <td>371.101643</td>\n",
       "      <td>364.160552</td>\n",
       "      <td>23</td>\n",
       "      <td>47</td>\n",
       "      <td>798.631238</td>\n",
       "      <td>4</td>\n",
       "      <td>90.656616</td>\n",
       "      <td>727.165390</td>\n",
       "      <td>BENIGN</td>\n",
       "    </tr>\n",
       "    <tr>\n",
       "      <th>4</th>\n",
       "      <td>845150</td>\n",
       "      <td>64</td>\n",
       "      <td>41</td>\n",
       "      <td>243.687870</td>\n",
       "      <td>312.489184</td>\n",
       "      <td>273477.596633</td>\n",
       "      <td>6911.016963</td>\n",
       "      <td>665.448001</td>\n",
       "      <td>248.391561</td>\n",
       "      <td>34</td>\n",
       "      <td>21</td>\n",
       "      <td>241.411675</td>\n",
       "      <td>4</td>\n",
       "      <td>692.342537</td>\n",
       "      <td>968.006828</td>\n",
       "      <td>BENIGN</td>\n",
       "    </tr>\n",
       "  </tbody>\n",
       "</table>\n",
       "</div>"
      ],
      "text/plain": [
       "   Flow Duration  Total Fwd Packets  Total Backward Packets  \\\n",
       "0         372911                 40                      61   \n",
       "1         416833                 75                      54   \n",
       "2         658691                 25                       8   \n",
       "3         242783                 82                      16   \n",
       "4         845150                 64                      41   \n",
       "\n",
       "   Fwd Packet Length Mean  Bwd Packet Length Mean   Flow Bytes/s  \\\n",
       "0              207.578808              498.354903  590056.393368   \n",
       "1              470.777028              391.274887  981285.629660   \n",
       "2              143.566882              182.194382   68432.128204   \n",
       "3              197.040143              278.526344  914901.025178   \n",
       "4              243.687870              312.489184  273477.596633   \n",
       "\n",
       "   Flow Packets/s  Fwd IAT Mean  Bwd IAT Mean  Fwd Header Length  \\\n",
       "0     5340.159600    279.382916     71.379364                 30   \n",
       "1     9623.016867    196.067989    337.417042                 51   \n",
       "2      776.293122    432.614975    635.716569                 40   \n",
       "3     1528.357143    371.101643    364.160552                 23   \n",
       "4     6911.016963    665.448001    248.391561                 34   \n",
       "\n",
       "   Bwd Header Length  Packet Length Mean  Down/Up Ratio  Avg Fwd Segment Size  \\\n",
       "0                 50          251.537041              7            276.770570   \n",
       "1                 25          765.047090              5            582.283212   \n",
       "2                 51          573.098893              9            329.492926   \n",
       "3                 47          798.631238              4             90.656616   \n",
       "4                 21          241.411675              4            692.342537   \n",
       "\n",
       "   Avg Bwd Segment Size   Label  \n",
       "0            869.484800  BENIGN  \n",
       "1            116.340323  BENIGN  \n",
       "2             29.667906  BENIGN  \n",
       "3            727.165390  BENIGN  \n",
       "4            968.006828  BENIGN  "
      ]
     },
     "execution_count": 44,
     "metadata": {},
     "output_type": "execute_result"
    }
   ],
   "source": [
    "# Cell 2: Load dataset\n",
    "df = pd.read_csv('balanced_synthetic_cicids.csv')\n",
    "print(\"✅ Data loaded. Shape:\", df.shape)\n",
    "df.head()\n"
   ]
  },
  {
   "cell_type": "markdown",
   "metadata": {},
   "source": [
    "# 1. Feature Engineering\n",
    "# Use OneHotEncoder for categorical features (method, endpoint, attack_type)\n",
    "# Use TF-IDF for the 'payload' feature (textual data)\n",
    "\n",
    "# Define the target (attack type)"
   ]
  },
  {
   "cell_type": "code",
   "execution_count": 45,
   "metadata": {},
   "outputs": [
    {
     "name": "stdout",
     "output_type": "stream",
     "text": [
      "✅ Preprocessing complete. Features shape: (99996, 15)\n"
     ]
    }
   ],
   "source": [
    "# Cell 3: Preprocessing\n",
    "# Drop unneeded columns\n",
    "# Only drop columns that exist\n",
    "columns_to_drop = ['Flow ID', 'Source IP', 'Destination IP', 'Timestamp']\n",
    "df.drop(columns=[col for col in columns_to_drop if col in df.columns], inplace=True)\n",
    "\n",
    "\n",
    "# Encode categorical labels\n",
    "label_encoder = LabelEncoder()\n",
    "df['Label'] = label_encoder.fit_transform(df['Label'])\n",
    "\n",
    "# Separate features and labels\n",
    "X = df.drop('Label', axis=1)\n",
    "y = df['Label']\n",
    "\n",
    "# Scale features\n",
    "scaler = StandardScaler()\n",
    "X_scaled = scaler.fit_transform(X)\n",
    "\n",
    "print(\"✅ Preprocessing complete. Features shape:\", X_scaled.shape)\n"
   ]
  },
  {
   "cell_type": "code",
   "execution_count": 32,
   "metadata": {},
   "outputs": [],
   "source": [
    "from imblearn.over_sampling import SMOTE\n",
    "\n",
    "sm = SMOTE(random_state=42)\n",
    "X_res, y_res = sm.fit_resample(X_scaled, y)\n",
    "\n",
    "# Train-test split on balanced data\n",
    "X_train, X_test, y_train, y_test = train_test_split(X_res, y_res, test_size=0.2, random_state=42)\n"
   ]
  },
  {
   "cell_type": "code",
   "execution_count": 46,
   "metadata": {},
   "outputs": [
    {
     "name": "stdout",
     "output_type": "stream",
     "text": [
      "🔄 Train size: 79996  | Test size: 20000\n"
     ]
    }
   ],
   "source": [
    "# Cell 4: Train-Test Split\n",
    "X_train, X_test, y_train, y_test = train_test_split(\n",
    "    X_scaled, y, test_size=0.2, stratify=y, random_state=42)\n",
    "\n",
    "print(\"🔄 Train size:\", X_train.shape[0], \" | Test size:\", X_test.shape[0])\n"
   ]
  },
  {
   "cell_type": "code",
   "execution_count": 47,
   "metadata": {},
   "outputs": [
    {
     "name": "stdout",
     "output_type": "stream",
     "text": [
      "✅ Model training complete.\n"
     ]
    }
   ],
   "source": [
    "# Cell 5: Train Random Forest Classifier\n",
    "model = RandomForestClassifier(n_estimators=100, random_state=42, class_weight='balanced')\n",
    "model.fit(X_train, y_train)\n",
    "print(\"✅ Model training complete.\")\n"
   ]
  },
  {
   "cell_type": "code",
   "execution_count": 35,
   "metadata": {},
   "outputs": [
    {
     "name": "stdout",
     "output_type": "stream",
     "text": [
      "✅ Model, label encoder, and scaler saved to disk.\n"
     ]
    }
   ],
   "source": [
    "\n",
    "with open('rf_model.pkl', 'wb') as f:\n",
    "    pickle.dump(model, f)\n",
    "\n",
    "# Save the label encoder\n",
    "with open('label_encoder.pkl', 'wb') as f:\n",
    "    pickle.dump(label_encoder, f)\n",
    "\n",
    "# Save the scaler\n",
    "with open('scaler.pkl', 'wb') as f:\n",
    "    pickle.dump(scaler, f)\n",
    "\n",
    "print(\"✅ Model, label encoder, and scaler saved to disk.\")\n"
   ]
  },
  {
   "cell_type": "code",
   "execution_count": 48,
   "metadata": {},
   "outputs": [
    {
     "name": "stdout",
     "output_type": "stream",
     "text": [
      "🎯 Accuracy: 16.12 %\n",
      "\n",
      "📊 Classification Report:\n",
      "               precision    recall  f1-score   support\n",
      "\n",
      "      BENIGN       0.16      0.18      0.17      3333\n",
      "  BruteForce       0.16      0.17      0.17      3333\n",
      "        DDoS       0.16      0.16      0.16      3333\n",
      "    PortScan       0.16      0.16      0.16      3334\n",
      "        SQLi       0.16      0.16      0.16      3334\n",
      "         XSS       0.16      0.14      0.15      3333\n",
      "\n",
      "    accuracy                           0.16     20000\n",
      "   macro avg       0.16      0.16      0.16     20000\n",
      "weighted avg       0.16      0.16      0.16     20000\n",
      "\n"
     ]
    }
   ],
   "source": [
    "# Cell 6: Evaluate Model\n",
    "y_pred = model.predict(X_test)\n",
    "\n",
    "acc = accuracy_score(y_test, y_pred)\n",
    "print(\"🎯 Accuracy:\", round(acc * 100, 2), \"%\")\n",
    "print(\"\\n📊 Classification Report:\\n\", classification_report(\n",
    "    y_test, y_pred, target_names=label_encoder.classes_.astype(str)\n",
    "))\n",
    "\n"
   ]
  },
  {
   "cell_type": "code",
   "execution_count": null,
   "metadata": {},
   "outputs": [],
   "source": [
    "# Cell 7: Confusion Matrix\n",
    "plt.figure(figsize=(10, 6))\n",
    "sns.heatmap(confusion_matrix(y_test, y_pred), annot=True, fmt=\"d\",\n",
    "            xticklabels=label_encoder.classes_, yticklabels=label_encoder.classes_, cmap=\"Blues\")\n",
    "plt.title(\"Confusion Matrix\")\n",
    "plt.xlabel(\"Predicted\")\n",
    "plt.ylabel(\"True\")\n",
    "plt.show()\n"
   ]
  }
 ],
 "metadata": {
  "kernelspec": {
   "display_name": "Python 3",
   "language": "python",
   "name": "python3"
  },
  "language_info": {
   "codemirror_mode": {
    "name": "ipython",
    "version": 3
   },
   "file_extension": ".py",
   "mimetype": "text/x-python",
   "name": "python",
   "nbconvert_exporter": "python",
   "pygments_lexer": "ipython3",
   "version": "3.12.3"
  }
 },
 "nbformat": 4,
 "nbformat_minor": 2
}
